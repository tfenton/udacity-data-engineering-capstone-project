{
 "cells": [
  {
   "cell_type": "code",
   "execution_count": 1,
   "metadata": {},
   "outputs": [],
   "source": [
    "from pydbgen import pydbgen\n",
    "import os\n",
    "import pandas as pd\n",
    "from faker import Faker\n",
    "fake = Faker()\n",
    "import random\n",
    "import numpy as np\n",
    "import string\n",
    "import os\n",
    "from tqdm import tqdm\n",
    "import getpass"
   ]
  },
  {
   "cell_type": "code",
   "execution_count": 8,
   "metadata": {},
   "outputs": [
    {
     "name": "stdout",
     "output_type": "stream",
     "text": [
      "········\n"
     ]
    }
   ],
   "source": [
    "uname = 'postgres'\n",
    "passwd = getpass.getpass()"
   ]
  },
  {
   "cell_type": "markdown",
   "metadata": {},
   "source": [
    "# Postgres Test"
   ]
  },
  {
   "cell_type": "code",
   "execution_count": 3,
   "metadata": {},
   "outputs": [],
   "source": [
    "import psycopg2"
   ]
  },
  {
   "cell_type": "code",
   "execution_count": 4,
   "metadata": {},
   "outputs": [],
   "source": [
    "def table_exists(con, table_str):\n",
    "\n",
    "    exists = False\n",
    "    try:\n",
    "        cur = con.cursor()\n",
    "        cur.execute(\"select exists(select relname from pg_class where relname='\" + table_str + \"')\")\n",
    "        exists = cur.fetchone()[0]\n",
    "        print (exists)\n",
    "        cur.close()\n",
    "    except psycopg2.Error as e:\n",
    "        print (e)\n",
    "    return exists\n",
    "\n",
    "def get_table_col_names(con, table_str):\n",
    "\n",
    "    col_names = []\n",
    "    try:\n",
    "        cur = con.cursor()\n",
    "        cur.execute(\"select * from \" + table_str + \" LIMIT 0\")\n",
    "        for desc in cur.description:\n",
    "            col_names.append(desc[0])        \n",
    "        cur.close()\n",
    "    except psycopg2.Error as e:\n",
    "        print (e)\n",
    "\n",
    "    return col_names"
   ]
  },
  {
   "cell_type": "code",
   "execution_count": 9,
   "metadata": {
    "scrolled": true
   },
   "outputs": [],
   "source": [
    "conn = psycopg2.connect(f\"host='127.0.0.1' dbname='synthetic_email' user='{uname}' password='{passwd}'\")"
   ]
  },
  {
   "cell_type": "code",
   "execution_count": 10,
   "metadata": {},
   "outputs": [],
   "source": [
    "cur = conn.cursor()"
   ]
  },
  {
   "cell_type": "code",
   "execution_count": 11,
   "metadata": {},
   "outputs": [],
   "source": [
    "cur.execute('SELECT count(*) FROM employees')"
   ]
  },
  {
   "cell_type": "code",
   "execution_count": 12,
   "metadata": {},
   "outputs": [],
   "source": [
    "size = cur.fetchone()"
   ]
  },
  {
   "cell_type": "code",
   "execution_count": 13,
   "metadata": {},
   "outputs": [
    {
     "data": {
      "text/plain": [
       "48801"
      ]
     },
     "execution_count": 13,
     "metadata": {},
     "output_type": "execute_result"
    }
   ],
   "source": [
    "size[0]"
   ]
  },
  {
   "cell_type": "code",
   "execution_count": 14,
   "metadata": {},
   "outputs": [
    {
     "name": "stdout",
     "output_type": "stream",
     "text": [
      "\"name\",\"email\",\"phone_number\",\"address\"\r\n",
      "\"Chad Spears\",\"zacharyerickson@yahoo.com\",\"557-303-4631\",\"742 Jessica Cliffs, Port Stephenstad, TN 06314\"\r\n",
      "\"Michael King\",\"pmorales@yahoo.com\",\"421-414-4215\",\"909 Elizabeth Spring Apt. 692, Hessbury, MO 03015\"\r\n",
      "\"Sharon Perez\",\"michael58@harper.com\",\"492-754-0699\",\"6334 Martin Underpass, Lake Jeffrey, DC 59056\"\r\n",
      "\"Susan Martinez\",\"casey68@hotmail.com\",\"741-792-0698\",\"86052 Gregory Key, Lake Jessica, DC 22943\"\r\n",
      "\"Kimberly Goodman\",\"prangel@salazar.org\",\"674-713-9658\",\"9241 Jeremy Port, West Daniel, IL 53044\"\r\n",
      "\"Olivia Hernandez\",\"jennifermontoya@white.com\",\"870-817-5607\",\"503 Garcia Court, Heathland, NC 51839\"\r\n",
      "\"Kathy Rodriguez\",\"kevinharmon@krueger-burnett.com\",\"151-227-7620\",\"5970 Lewis Road, West Julie, NJ 44478\"\r\n",
      "\"Michael Grant\",\"kellylopez@yahoo.com\",\"703-656-3080\",\"Unit 9177 Box 6737, DPO AE 46188\"\r\n",
      "\"Bradley Coleman\",\"mpham@hotmail.com\",\"545-607-8594\",\"93418 Nicole Junction Apt. 984, Christineborough, UT 75492\"\r\n"
     ]
    }
   ],
   "source": [
    "!head /encrypted_vol/jupyter_data/airflow/data/employees.csv"
   ]
  },
  {
   "cell_type": "code",
   "execution_count": 15,
   "metadata": {},
   "outputs": [],
   "source": [
    "cur.execute('DROP TABLE IF EXISTS employees')"
   ]
  },
  {
   "cell_type": "code",
   "execution_count": 16,
   "metadata": {},
   "outputs": [],
   "source": [
    "#if size[0] < 48000: # only execute if we are missing data\n",
    "cur.execute('DROP TABLE IF EXISTS employees')\n",
    "cur.execute('''CREATE TABLE employees (\n",
    "            name varchar,\n",
    "            email varchar, \n",
    "            phone_number varchar,\n",
    "            address varchar,\n",
    "            PRIMARY KEY (name, email));''')\n",
    "\n",
    "\n",
    "\n",
    "cur.execute(\"\"\"COPY employees(name,email,phone_number,address) \n",
    "                FROM '/encrypted_vol/jupyter_data/airflow/data/employees.csv'\n",
    "                DELIMITER ',' CSV HEADER;\"\"\")"
   ]
  },
  {
   "cell_type": "code",
   "execution_count": 17,
   "metadata": {},
   "outputs": [],
   "source": [
    "cur.execute('SELECT * FROM employees')"
   ]
  },
  {
   "cell_type": "code",
   "execution_count": 18,
   "metadata": {},
   "outputs": [
    {
     "data": {
      "text/plain": [
       "('Chad Spears',\n",
       " 'zacharyerickson@yahoo.com',\n",
       " '557-303-4631',\n",
       " '742 Jessica Cliffs, Port Stephenstad, TN 06314')"
      ]
     },
     "execution_count": 18,
     "metadata": {},
     "output_type": "execute_result"
    }
   ],
   "source": [
    "cur.fetchone()"
   ]
  },
  {
   "cell_type": "markdown",
   "metadata": {},
   "source": [
    "### Insert into email log table"
   ]
  },
  {
   "cell_type": "code",
   "execution_count": 19,
   "metadata": {},
   "outputs": [
    {
     "name": "stdout",
     "output_type": "stream",
     "text": [
      "guid,datetime,sender,recipients,subject,attachments,rule,action,attach_cnt,rcpt_cnt,email_size,log_file,log_key_id\r\n",
      "aRFWSXGwyJiTxPGMwzZSJcdRjWtpjCqB,2019-08-23 00:00:01+00:00,nsanchez@gilbert-wade.com,\"['rodriguezsabrina@yahoo.com', 'ymcbride@hotmail.com', 'gberry@hotmail.com', 'karen09@hotmail.com']\",Position or expect someone radio have.,['H:/him/technology/memory/many/sport/claim.inf'],AND,WHOLE_MAINTAIN_STOP,1,4,26100063,201901.gz,\r\n"
     ]
    }
   ],
   "source": [
    "!head -n 2 /encrypted_vol/jupyter_data/airflow/data/2019-08-23.csv"
   ]
  },
  {
   "cell_type": "code",
   "execution_count": 20,
   "metadata": {},
   "outputs": [],
   "source": [
    "cur.execute('DROP TABLE IF EXISTS email_logs')"
   ]
  },
  {
   "cell_type": "code",
   "execution_count": 21,
   "metadata": {},
   "outputs": [],
   "source": [
    "cur.execute('''CREATE TABLE IF NOT EXISTS email_logs \n",
    "            (guid varchar, \n",
    "            \"datetime\" TIMESTAMP, \n",
    "            sender varchar, \n",
    "            recipients varchar, \n",
    "            subject varchar, \n",
    "            attachments varchar, \n",
    "            rule varchar, \n",
    "            action varchar, \n",
    "            attach_cnt int, \n",
    "            rcpt_cnt int, \n",
    "            email_size int, \n",
    "            log_file varchar, \n",
    "            log_key_id varchar,\n",
    "            PRIMARY KEY (guid, sender));''')"
   ]
  },
  {
   "cell_type": "code",
   "execution_count": 22,
   "metadata": {},
   "outputs": [],
   "source": [
    "cur.execute('''COPY email_logs(guid,datetime,sender,recipients,subject,attachments,rule,action,attach_cnt,rcpt_cnt,email_size,log_file,log_key_id)\n",
    "                FROM '/encrypted_vol/jupyter_data/airflow/data/2019-08-22.csv'\n",
    "                DELIMITER ',' CSV HEADER;''')\n"
   ]
  },
  {
   "cell_type": "code",
   "execution_count": 23,
   "metadata": {},
   "outputs": [],
   "source": [
    "cur.execute('SELECT * FROM email_logs LIMIT 2')"
   ]
  },
  {
   "cell_type": "code",
   "execution_count": 24,
   "metadata": {},
   "outputs": [
    {
     "data": {
      "text/plain": [
       "[('bBJKeUiocwuufpKQYWpWFIoABLbMmEfX',\n",
       "  datetime.datetime(2019, 8, 22, 0, 0, 11),\n",
       "  'dadams@hotmail.com',\n",
       "  \"['lcherry@hotmail.com']\",\n",
       "  'Will wait how ok whether why. Read avoid foreign if.',\n",
       "  '[]',\n",
       "  'CONGRESS',\n",
       "  'STOP_TRADITIONAL',\n",
       "  0,\n",
       "  1,\n",
       "  11473169,\n",
       "  '201908.gz',\n",
       "  None),\n",
       " ('yaWaJKfSYqIpZUZfditdxEBmvNuqkrac',\n",
       "  datetime.datetime(2019, 8, 22, 0, 0, 12),\n",
       "  'amy99@austin-alvarado.org',\n",
       "  \"['lsnyder@hotmail.com', 'joneschristopher@yahoo.com']\",\n",
       "  'Democrat risk bed support hear feel.',\n",
       "  \"['Z:/different/get/phone/a/risk.rdb']\",\n",
       "  'STATION',\n",
       "  'COMMUNITY_TRAVEL',\n",
       "  1,\n",
       "  2,\n",
       "  12063584,\n",
       "  '201909.gz',\n",
       "  None)]"
      ]
     },
     "execution_count": 24,
     "metadata": {},
     "output_type": "execute_result"
    }
   ],
   "source": [
    "cur.fetchall()"
   ]
  },
  {
   "cell_type": "code",
   "execution_count": 25,
   "metadata": {},
   "outputs": [
    {
     "data": {
      "text/plain": [
       "['name', 'email', 'phone_number', 'address']"
      ]
     },
     "execution_count": 25,
     "metadata": {},
     "output_type": "execute_result"
    }
   ],
   "source": [
    "get_table_col_names(conn, 'employees')"
   ]
  },
  {
   "cell_type": "markdown",
   "metadata": {},
   "source": [
    "### Insert into blended table"
   ]
  },
  {
   "cell_type": "code",
   "execution_count": 26,
   "metadata": {},
   "outputs": [],
   "source": [
    "cur.execute('DROP TABLE IF EXISTS blended_email_logs')"
   ]
  },
  {
   "cell_type": "code",
   "execution_count": 27,
   "metadata": {},
   "outputs": [],
   "source": [
    "cur.execute('''CREATE TABLE IF NOT EXISTS blended_email_logs (\n",
    "                guid varchar, \n",
    "                \"datetime\" TIMESTAMP, \n",
    "                sender varchar, \n",
    "                recipients varchar, \n",
    "                subject varchar, \n",
    "                attachments varchar, \n",
    "                rule varchar, \n",
    "                action varchar, \n",
    "                attach_cnt int, \n",
    "                rcpt_cnt int, \n",
    "                email_size int, \n",
    "                log_file varchar, \n",
    "                log_key_id varchar, \n",
    "                name varchar,\n",
    "                phone_number varchar,\n",
    "                address varchar,\n",
    "                PRIMARY KEY(guid, sender));''')"
   ]
  },
  {
   "cell_type": "code",
   "execution_count": 28,
   "metadata": {},
   "outputs": [],
   "source": [
    "cur.execute('''insert into blended_email_logs(\n",
    "                        guid,\n",
    "                        datetime,\n",
    "                        sender,\n",
    "                        recipients,\n",
    "                        subject,\n",
    "                        attachments,\n",
    "                        rule,\n",
    "                        action,\n",
    "                        attach_cnt,\n",
    "                        rcpt_cnt,\n",
    "                        email_size,\n",
    "                        log_file,\n",
    "                        log_key_id,\n",
    "                        name,\n",
    "                        phone_number,\n",
    "                        address\n",
    ")\n",
    "SELECT \n",
    "  el.guid,el.datetime,el.sender,el.recipients,el.subject,el.attachments,el.rule,el.action,el.attach_cnt,el.rcpt_cnt,el.email_size,el.log_file,el.log_key_id,\n",
    "  e.name,e.phone_number,e.address\n",
    "FROM email_logs el\n",
    "LEFT JOIN employees e ON el.sender = e.email''')\n"
   ]
  },
  {
   "cell_type": "code",
   "execution_count": 33,
   "metadata": {},
   "outputs": [],
   "source": [
    "cur.execute('''SELECT count(*) FROM blended_email_logs WHERE datetime::date = date '2019-08-22' ''')"
   ]
  },
  {
   "cell_type": "code",
   "execution_count": 34,
   "metadata": {},
   "outputs": [
    {
     "data": {
      "text/plain": [
       "(7480,)"
      ]
     },
     "execution_count": 34,
     "metadata": {},
     "output_type": "execute_result"
    }
   ],
   "source": [
    "cur.fetchone()"
   ]
  },
  {
   "cell_type": "code",
   "execution_count": 35,
   "metadata": {},
   "outputs": [],
   "source": [
    "cur.execute('''SELECT count(*) FROM blended_email_logs''')"
   ]
  },
  {
   "cell_type": "code",
   "execution_count": 36,
   "metadata": {},
   "outputs": [
    {
     "data": {
      "text/plain": [
       "(7480,)"
      ]
     },
     "execution_count": 36,
     "metadata": {},
     "output_type": "execute_result"
    }
   ],
   "source": [
    "cur.fetchone()"
   ]
  },
  {
   "cell_type": "code",
   "execution_count": 37,
   "metadata": {},
   "outputs": [],
   "source": [
    "conn.close()"
   ]
  }
 ],
 "metadata": {
  "kernelspec": {
   "display_name": "Python [conda env:proofpoint]",
   "language": "python",
   "name": "conda-env-proofpoint-py"
  },
  "language_info": {
   "codemirror_mode": {
    "name": "ipython",
    "version": 3
   },
   "file_extension": ".py",
   "mimetype": "text/x-python",
   "name": "python",
   "nbconvert_exporter": "python",
   "pygments_lexer": "ipython3",
   "version": "3.6.9"
  }
 },
 "nbformat": 4,
 "nbformat_minor": 4
}
