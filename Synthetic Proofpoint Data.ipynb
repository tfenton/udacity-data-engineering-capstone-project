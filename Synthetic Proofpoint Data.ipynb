{
 "cells": [
  {
   "cell_type": "code",
   "execution_count": 1,
   "metadata": {},
   "outputs": [],
   "source": [
    "from pydbgen import pydbgen\n",
    "import os\n",
    "import pandas as pd\n",
    "from faker import Faker\n",
    "fake = Faker()\n",
    "import random\n",
    "import numpy as np\n",
    "import string\n",
    "import os\n",
    "from tqdm import tqdm\n",
    "def randomString(stringLength):\n",
    "    \"\"\"Generate a random string with the combination of lowercase and uppercase letters \"\"\"\n",
    "    letters = string.ascii_letters\n",
    "    return ''.join(random.choice(letters) for i in range(stringLength))"
   ]
  },
  {
   "cell_type": "markdown",
   "metadata": {},
   "source": [
    "# Constants"
   ]
  },
  {
   "cell_type": "code",
   "execution_count": 2,
   "metadata": {},
   "outputs": [],
   "source": [
    "DATA_SIZE = 1000000\n",
    "START_DATE = '2019-09-15'\n",
    "END_DATE = '2019-09-30'"
   ]
  },
  {
   "cell_type": "code",
   "execution_count": 3,
   "metadata": {},
   "outputs": [],
   "source": [
    "def randomDir():\n",
    "    randint = random.randint(0,64)\n",
    "    if randint > 31:\n",
    "        drive_letters = ['C:', 'D:', 'H:','/', 'Z:']\n",
    "        file_extensions = ['.a','.asm','.asp','.awk','.bat','.bmp','.btm','.BTM','.c','.class','.cmd','.CPP','.csv','.cur','.cxx','.CXX','.db','.def','.DES','.dlg','.dll','.don','.dpc','.dpj','.dtd','.dump','.dxp','.eng','.exe','.flt','.fmt','.font','.fp','.ft','.gif','.h','.H','.hdb','.hdl','.hid','.hpp','.hrc','.HRC','.html','.hxx','.Hxx','.HXX','.ico','.idl','.IDL','.ih','.ilb','.inc','.inf','.ini','.inl','.ins','.java','.jar','.jnl','.jpg','.js','.jsp','.kdelnk','.l','.lgt','.lib','.lin','.ll','.LN3','.lng','.lnk','.lnx','.LOG','.lst','.lst','.mac','.MacOS','.map','.mk','.MK','.mod','.NT2','.o','.obj','.par','.pfa','.pfb','.pl','.PL','.plc','.pld','.PLD','.plf','.pm','.pmk','.pre','.PRJ','.prt','.PS','.ptr','.r','.rc','.rdb','.res','.s','.S','.sbl','.scp','.scr','.sda','.sdb','.sdc','.sdd','.sdg','.sdm','.sds','.sdv','.sdw','.sdi','.seg','.SEG','.Set','.sgl','.sh','.sid','.smf','.sms','.so','.sob','.sob','.soc','.sod','.soe','.sog','.soh','.src','.srs','.SSLeay','.Static','.tab','.TFM','.thm','.tpt','.tsc','.ttf','.TTF','.txt','.TXT','.unx','.UNX','.urd','.url','.VMS','.vor','.W32','.wav','.wmf','.xml','.xpm','.xrb','.y','.yxx','.zip',]\n",
    "        path_parts = fake.text(max_nb_chars=randint).split()\n",
    "        path_parts = [word.replace('.','').lower() for word in path_parts]\n",
    "        return os.path.join(random.choice(drive_letters), *path_parts[:-1], path_parts[-1] + random.choice(file_extensions))\n",
    "    else:\n",
    "        return None"
   ]
  },
  {
   "cell_type": "code",
   "execution_count": 4,
   "metadata": {},
   "outputs": [],
   "source": [
    "my_db = pydbgen.pydb()"
   ]
  },
  {
   "cell_type": "code",
   "execution_count": 6,
   "metadata": {},
   "outputs": [],
   "source": [
    "# df_employees = pd.read_csv('../airflow/data/employees.csv')\n",
    "# df_employees.head()"
   ]
  },
  {
   "cell_type": "code",
   "execution_count": 7,
   "metadata": {},
   "outputs": [],
   "source": [
    "df_employees = my_db.gen_dataframe(50000, fields=['name','email', 'phone'], real_email=False)"
   ]
  },
  {
   "cell_type": "code",
   "execution_count": 8,
   "metadata": {},
   "outputs": [
    {
     "name": "stderr",
     "output_type": "stream",
     "text": [
      "100%|██████████| 50000/50000 [00:16<00:00, 3026.05it/s]\n"
     ]
    }
   ],
   "source": [
    "df_employees['address'] = pd.Series([fake.address() for i in tqdm(range(df_employees.shape[0]))])"
   ]
  },
  {
   "cell_type": "code",
   "execution_count": 9,
   "metadata": {},
   "outputs": [
    {
     "data": {
      "text/html": [
       "<div>\n",
       "<style scoped>\n",
       "    .dataframe tbody tr th:only-of-type {\n",
       "        vertical-align: middle;\n",
       "    }\n",
       "\n",
       "    .dataframe tbody tr th {\n",
       "        vertical-align: top;\n",
       "    }\n",
       "\n",
       "    .dataframe thead th {\n",
       "        text-align: right;\n",
       "    }\n",
       "</style>\n",
       "<table border=\"1\" class=\"dataframe\">\n",
       "  <thead>\n",
       "    <tr style=\"text-align: right;\">\n",
       "      <th></th>\n",
       "      <th>name</th>\n",
       "      <th>email</th>\n",
       "      <th>phone-number</th>\n",
       "      <th>address</th>\n",
       "    </tr>\n",
       "  </thead>\n",
       "  <tbody>\n",
       "    <tr>\n",
       "      <th>0</th>\n",
       "      <td>David Johnson</td>\n",
       "      <td>vrhodes@gmail.com</td>\n",
       "      <td>133-444-6868</td>\n",
       "      <td>22457 Long Knolls Apt. 550\\nCarpenterview, NJ ...</td>\n",
       "    </tr>\n",
       "    <tr>\n",
       "      <th>1</th>\n",
       "      <td>William Johns</td>\n",
       "      <td>brownnicholas@morris.com</td>\n",
       "      <td>629-141-7932</td>\n",
       "      <td>6664 Sawyer View\\nAlanbury, MI 07368</td>\n",
       "    </tr>\n",
       "    <tr>\n",
       "      <th>2</th>\n",
       "      <td>Natasha Daniel</td>\n",
       "      <td>lestermark@carson.biz</td>\n",
       "      <td>638-396-5595</td>\n",
       "      <td>65146 Jillian Island\\nCassandraton, OH 88405</td>\n",
       "    </tr>\n",
       "    <tr>\n",
       "      <th>3</th>\n",
       "      <td>Stanley Williams</td>\n",
       "      <td>heatherprice@hotmail.com</td>\n",
       "      <td>898-047-9839</td>\n",
       "      <td>2034 Becker Crescent\\nLake Cynthialand, ME 82722</td>\n",
       "    </tr>\n",
       "    <tr>\n",
       "      <th>4</th>\n",
       "      <td>Michele Morgan</td>\n",
       "      <td>susanmccormick@gmail.com</td>\n",
       "      <td>410-035-9053</td>\n",
       "      <td>90371 Garcia Hills Suite 147\\nEricamouth, NM 9...</td>\n",
       "    </tr>\n",
       "  </tbody>\n",
       "</table>\n",
       "</div>"
      ],
      "text/plain": [
       "               name                     email  phone-number  \\\n",
       "0     David Johnson         vrhodes@gmail.com  133-444-6868   \n",
       "1     William Johns  brownnicholas@morris.com  629-141-7932   \n",
       "2    Natasha Daniel     lestermark@carson.biz  638-396-5595   \n",
       "3  Stanley Williams  heatherprice@hotmail.com  898-047-9839   \n",
       "4    Michele Morgan  susanmccormick@gmail.com  410-035-9053   \n",
       "\n",
       "                                             address  \n",
       "0  22457 Long Knolls Apt. 550\\nCarpenterview, NJ ...  \n",
       "1               6664 Sawyer View\\nAlanbury, MI 07368  \n",
       "2       65146 Jillian Island\\nCassandraton, OH 88405  \n",
       "3   2034 Becker Crescent\\nLake Cynthialand, ME 82722  \n",
       "4  90371 Garcia Hills Suite 147\\nEricamouth, NM 9...  "
      ]
     },
     "execution_count": 9,
     "metadata": {},
     "output_type": "execute_result"
    }
   ],
   "source": [
    "df_employees.head()"
   ]
  },
  {
   "cell_type": "code",
   "execution_count": 10,
   "metadata": {},
   "outputs": [],
   "source": [
    "df_employees.drop_duplicates(subset=['email']).to_csv('employees.csv')"
   ]
  },
  {
   "cell_type": "markdown",
   "metadata": {},
   "source": [
    "# Now work on the synthetic email data"
   ]
  },
  {
   "cell_type": "code",
   "execution_count": 11,
   "metadata": {},
   "outputs": [],
   "source": [
    "column_names = [\"guid\"#: \"7QOFtqhH3UxB7va5fFHfw6pCHzT7E1iM\",\n",
    "    ,\"datetime\"#: \"2019-09-01 00:45:50 -0500\", DONE\n",
    "    ,\"sender\"#: \"helpdesk@staefa.com.br\", DONE\n",
    "    ,\"recipients\"#: [ \"brpjbissup@wal-mart.com\" ], \n",
    "    ,\"subject\"#: null,\n",
    "    ,\"attachments\"#: null,\n",
    "    ,\"rule\"#: \"norcpts\",\n",
    "    ,\"action\"#: \"discard\",\n",
    "    ,\"attach_cnt\"#: \"0\",\n",
    "    ,\"rcpt_cnt\"#: \"1\",\n",
    "    ,\"email_size\"#: \"0\",\n",
    "    ,\"log_file\"#: \"201908.gz\",\n",
    "    ,\"log_key_id\"#: \"2uqnqbb41y\"]\n",
    "          ]"
   ]
  },
  {
   "cell_type": "markdown",
   "metadata": {},
   "source": [
    "### generate datetime"
   ]
  },
  {
   "cell_type": "code",
   "execution_count": 12,
   "metadata": {},
   "outputs": [],
   "source": [
    "#s_date = my_db.gen_data_series(DATA_SIZE, data_type='date') + 'T' + my_db.gen_data_series(DATA_SIZE, data_type='time') + 'Z'\n",
    "def random_dates(start, end, n=10):\n",
    "    start_u = start.value//10**9\n",
    "    end_u = end.value//10**9\n",
    "\n",
    "    return pd.to_datetime(np.random.randint(start_u, end_u, n), unit='s')"
   ]
  },
  {
   "cell_type": "code",
   "execution_count": 16,
   "metadata": {},
   "outputs": [],
   "source": [
    "SINGLE_DAY = False # set to true if you want all DATA_SIZE rows stored in one day\n",
    "s_date = None\n",
    "if not SINGLE_DAY:\n",
    "    # this line give dates in a random range\n",
    "    s_date = pd.Series(random_dates(pd.to_datetime(START_DATE),pd.to_datetime(END_DATE),DATA_SIZE))\n",
    "else:\n",
    "    # this line limits dates and times to a single day\n",
    "    s_date = pd.Series(random_dates(pd.to_datetime('2019-09-14'),pd.to_datetime('2019-09-15'),DATA_SIZE))"
   ]
  },
  {
   "cell_type": "code",
   "execution_count": 17,
   "metadata": {},
   "outputs": [],
   "source": [
    "s_date = s_date.dt.tz_localize('UTC')"
   ]
  },
  {
   "cell_type": "markdown",
   "metadata": {},
   "source": [
    "### Subject of email"
   ]
  },
  {
   "cell_type": "code",
   "execution_count": 18,
   "metadata": {},
   "outputs": [
    {
     "name": "stderr",
     "output_type": "stream",
     "text": [
      "100%|██████████| 1000000/1000000 [03:42<00:00, 4496.53it/s]\n"
     ]
    }
   ],
   "source": [
    "s_subjects = pd.Series([fake.text(max_nb_chars=64) for i in tqdm(range(DATA_SIZE))])"
   ]
  },
  {
   "cell_type": "markdown",
   "metadata": {},
   "source": [
    "### GUID"
   ]
  },
  {
   "cell_type": "code",
   "execution_count": 19,
   "metadata": {},
   "outputs": [
    {
     "name": "stderr",
     "output_type": "stream",
     "text": [
      "100%|██████████| 1000000/1000000 [00:33<00:00, 29694.89it/s]\n"
     ]
    }
   ],
   "source": [
    "s_guids = pd.Series([randomString(32) for i in tqdm(range(DATA_SIZE))])"
   ]
  },
  {
   "cell_type": "markdown",
   "metadata": {},
   "source": [
    "### Senders"
   ]
  },
  {
   "cell_type": "code",
   "execution_count": 20,
   "metadata": {},
   "outputs": [
    {
     "name": "stderr",
     "output_type": "stream",
     "text": [
      "100%|██████████| 1000000/1000000 [00:22<00:00, 44194.81it/s]\n"
     ]
    }
   ],
   "source": [
    "s_senders = pd.Series([random.choice(df_employees.email) for i in tqdm(range(DATA_SIZE))])"
   ]
  },
  {
   "cell_type": "markdown",
   "metadata": {},
   "source": [
    "### Recipients"
   ]
  },
  {
   "cell_type": "code",
   "execution_count": 21,
   "metadata": {},
   "outputs": [],
   "source": [
    "def get_skewed_proba():\n",
    "    pers = np.arange(1,32,1)\n",
    "\n",
    "    # Make each of the last 4 elements 5x more likely\n",
    "    prob = [10.0]*4 + [1.0]*(len(pers)-4)\n",
    "\n",
    "    # Normalising to 1.0\n",
    "    prob /= np.sum(prob)\n",
    "\n",
    "    num_recips = np.random.choice(pers, 1, p=prob)\n",
    "    return num_recips"
   ]
  },
  {
   "cell_type": "code",
   "execution_count": 22,
   "metadata": {
    "scrolled": true
   },
   "outputs": [
    {
     "name": "stderr",
     "output_type": "stream",
     "text": [
      "100%|██████████| 1000000/1000000 [05:43<00:00, 2911.74it/s]\n"
     ]
    }
   ],
   "source": [
    "s_recipients = pd.Series([[random.choice(df_employees.email) for i in range(int(get_skewed_proba())) ] for j in tqdm(range(DATA_SIZE))])"
   ]
  },
  {
   "cell_type": "markdown",
   "metadata": {},
   "source": [
    "### recip count"
   ]
  },
  {
   "cell_type": "code",
   "execution_count": 23,
   "metadata": {},
   "outputs": [],
   "source": [
    "s_rcpt_cnt = s_recipients.apply(lambda x: len(x))"
   ]
  },
  {
   "cell_type": "markdown",
   "metadata": {},
   "source": [
    "### attachements"
   ]
  },
  {
   "cell_type": "code",
   "execution_count": 24,
   "metadata": {},
   "outputs": [
    {
     "name": "stderr",
     "output_type": "stream",
     "text": [
      "100%|██████████| 1000000/1000000 [05:32<00:00, 3007.69it/s]\n"
     ]
    }
   ],
   "source": [
    "def getAttachments():\n",
    "    dirs = []\n",
    "    for i in range(random.randint(0, 5)):\n",
    "        dir = randomDir() \n",
    "        if dir:\n",
    "            dirs.append(dir)\n",
    "    return dirs\n",
    "\n",
    "s_attachments = pd.Series([getAttachments() for i in tqdm(range(DATA_SIZE))])"
   ]
  },
  {
   "cell_type": "markdown",
   "metadata": {},
   "source": [
    "### attachement count"
   ]
  },
  {
   "cell_type": "code",
   "execution_count": 25,
   "metadata": {},
   "outputs": [],
   "source": [
    "s_attach_cnt = s_attachments.apply(lambda x: len(x))"
   ]
  },
  {
   "cell_type": "markdown",
   "metadata": {},
   "source": [
    "### rules"
   ]
  },
  {
   "cell_type": "code",
   "execution_count": 26,
   "metadata": {},
   "outputs": [],
   "source": [
    "rules = [fake.text(10).replace('.','').upper().split()[0] for i in range(100)]"
   ]
  },
  {
   "cell_type": "code",
   "execution_count": 27,
   "metadata": {},
   "outputs": [
    {
     "name": "stderr",
     "output_type": "stream",
     "text": [
      "100%|██████████| 1000000/1000000 [00:01<00:00, 766234.21it/s]\n"
     ]
    }
   ],
   "source": [
    "s_rule = pd.Series([random.choice(rules) for i in tqdm(range(DATA_SIZE))])"
   ]
  },
  {
   "cell_type": "markdown",
   "metadata": {},
   "source": [
    "### actions"
   ]
  },
  {
   "cell_type": "code",
   "execution_count": 28,
   "metadata": {},
   "outputs": [],
   "source": [
    "actions = [fake.text(20).replace('.','').replace(' ','_').upper() for i in range(100)]"
   ]
  },
  {
   "cell_type": "code",
   "execution_count": 29,
   "metadata": {},
   "outputs": [
    {
     "name": "stderr",
     "output_type": "stream",
     "text": [
      "100%|██████████| 1000000/1000000 [00:01<00:00, 761478.45it/s]\n"
     ]
    }
   ],
   "source": [
    "s_action = pd.Series([random.choice(actions) for i in tqdm(range(DATA_SIZE))])"
   ]
  },
  {
   "cell_type": "markdown",
   "metadata": {},
   "source": [
    "### log key id"
   ]
  },
  {
   "cell_type": "code",
   "execution_count": 30,
   "metadata": {},
   "outputs": [
    {
     "name": "stderr",
     "output_type": "stream",
     "text": [
      "100%|██████████| 100000/100000 [00:00<00:00, 102433.16it/s]\n"
     ]
    }
   ],
   "source": [
    "s_log_key_ids = pd.Series([randomString(8) for i in tqdm(range(int(DATA_SIZE/10)))])"
   ]
  },
  {
   "cell_type": "markdown",
   "metadata": {},
   "source": [
    "### log file"
   ]
  },
  {
   "cell_type": "code",
   "execution_count": 31,
   "metadata": {},
   "outputs": [],
   "source": [
    "log_files = [f'20190{i}.gz' for i in range(1,10)]"
   ]
  },
  {
   "cell_type": "code",
   "execution_count": 32,
   "metadata": {},
   "outputs": [
    {
     "name": "stderr",
     "output_type": "stream",
     "text": [
      "100%|██████████| 1000000/1000000 [00:01<00:00, 728150.09it/s]\n"
     ]
    }
   ],
   "source": [
    "s_log_files = pd.Series([random.choice(log_files) for i in tqdm(range(DATA_SIZE))])"
   ]
  },
  {
   "cell_type": "markdown",
   "metadata": {},
   "source": [
    "### email size"
   ]
  },
  {
   "cell_type": "code",
   "execution_count": 33,
   "metadata": {},
   "outputs": [],
   "source": [
    "s_email_size = pd.Series(np.random.randint(1024*1024*25, size=DATA_SIZE))"
   ]
  },
  {
   "cell_type": "markdown",
   "metadata": {},
   "source": [
    "# Combined"
   ]
  },
  {
   "cell_type": "code",
   "execution_count": 34,
   "metadata": {},
   "outputs": [],
   "source": [
    "df_combined = pd.concat([s_guids, s_date, s_senders, s_recipients, s_subjects, s_attachments, s_rule, s_action, s_attach_cnt, s_rcpt_cnt, s_email_size, s_log_files, s_log_key_ids], axis=1)"
   ]
  },
  {
   "cell_type": "code",
   "execution_count": 35,
   "metadata": {},
   "outputs": [],
   "source": [
    "df_combined.columns = column_names"
   ]
  },
  {
   "cell_type": "code",
   "execution_count": 36,
   "metadata": {},
   "outputs": [
    {
     "data": {
      "text/html": [
       "<div>\n",
       "<style scoped>\n",
       "    .dataframe tbody tr th:only-of-type {\n",
       "        vertical-align: middle;\n",
       "    }\n",
       "\n",
       "    .dataframe tbody tr th {\n",
       "        vertical-align: top;\n",
       "    }\n",
       "\n",
       "    .dataframe thead th {\n",
       "        text-align: right;\n",
       "    }\n",
       "</style>\n",
       "<table border=\"1\" class=\"dataframe\">\n",
       "  <thead>\n",
       "    <tr style=\"text-align: right;\">\n",
       "      <th></th>\n",
       "      <th>guid</th>\n",
       "      <th>datetime</th>\n",
       "      <th>sender</th>\n",
       "      <th>recipients</th>\n",
       "      <th>subject</th>\n",
       "      <th>attachments</th>\n",
       "      <th>rule</th>\n",
       "      <th>action</th>\n",
       "      <th>attach_cnt</th>\n",
       "      <th>rcpt_cnt</th>\n",
       "      <th>email_size</th>\n",
       "      <th>log_file</th>\n",
       "      <th>log_key_id</th>\n",
       "    </tr>\n",
       "  </thead>\n",
       "  <tbody>\n",
       "    <tr>\n",
       "      <th>0</th>\n",
       "      <td>hdQXDhBADLMIvonRVSrqklgOXyasbWQr</td>\n",
       "      <td>2019-09-29 09:07:30+00:00</td>\n",
       "      <td>patricia21@hotmail.com</td>\n",
       "      <td>[floresjames@gmail.com, hoffmandenise@kirk-sha...</td>\n",
       "      <td>Operation one cup successful reality use page.</td>\n",
       "      <td>[/rather/west/west/figure/sometimes/garden.sog...</td>\n",
       "      <td>SERIOUS</td>\n",
       "      <td>APPLY_EVENT</td>\n",
       "      <td>3</td>\n",
       "      <td>26</td>\n",
       "      <td>34282</td>\n",
       "      <td>201908.gz</td>\n",
       "      <td>DmsAmKjK</td>\n",
       "    </tr>\n",
       "    <tr>\n",
       "      <th>1</th>\n",
       "      <td>rlwyjqsjwgmVogpUOsOUmBGNsvkrzIPP</td>\n",
       "      <td>2019-09-16 19:04:14+00:00</td>\n",
       "      <td>daniel03@bennett.net</td>\n",
       "      <td>[burnsjeffrey@alexander.com, lisajohnson@hotma...</td>\n",
       "      <td>Ground price decide majority newspaper perform.</td>\n",
       "      <td>[H:/three/own/window/sport/wait/stage/goal/aga...</td>\n",
       "      <td>SERIOUS</td>\n",
       "      <td>SPRING_SERIOUS_JUST</td>\n",
       "      <td>4</td>\n",
       "      <td>2</td>\n",
       "      <td>15921929</td>\n",
       "      <td>201907.gz</td>\n",
       "      <td>btmBAgTQ</td>\n",
       "    </tr>\n",
       "    <tr>\n",
       "      <th>2</th>\n",
       "      <td>HKVEWBeUiHaDTmYGGDFofNjAauKFSzXL</td>\n",
       "      <td>2019-09-24 03:56:11+00:00</td>\n",
       "      <td>johnsonadrian@williams.com</td>\n",
       "      <td>[james60@yahoo.com, mckinneyjennifer@fischer.c...</td>\n",
       "      <td>Series way model medical.</td>\n",
       "      <td>[/or/mission/society/also/agree/and.ttf]</td>\n",
       "      <td>HUGE</td>\n",
       "      <td>BORN_ECONOMIC_MUCH</td>\n",
       "      <td>1</td>\n",
       "      <td>4</td>\n",
       "      <td>14639511</td>\n",
       "      <td>201904.gz</td>\n",
       "      <td>QbyhCVuj</td>\n",
       "    </tr>\n",
       "    <tr>\n",
       "      <th>3</th>\n",
       "      <td>bqPLkLYSTpphQzJxWAvWAjDwLoVaqsqP</td>\n",
       "      <td>2019-09-16 01:22:04+00:00</td>\n",
       "      <td>onewman@hotmail.com</td>\n",
       "      <td>[youngmelissa@yahoo.com, robinsoncaitlyn@gmail...</td>\n",
       "      <td>Choose young rest bad gun manager people.</td>\n",
       "      <td>[/travel/case/put/republican.y]</td>\n",
       "      <td>HARD</td>\n",
       "      <td>CRIME_SOMETHING</td>\n",
       "      <td>1</td>\n",
       "      <td>12</td>\n",
       "      <td>25995279</td>\n",
       "      <td>201906.gz</td>\n",
       "      <td>eLOWqiyz</td>\n",
       "    </tr>\n",
       "    <tr>\n",
       "      <th>4</th>\n",
       "      <td>bNWRKuBfOmVVZgIBYvhQTlXnHjBgaABG</td>\n",
       "      <td>2019-09-15 06:19:12+00:00</td>\n",
       "      <td>jasmine34@harvey.net</td>\n",
       "      <td>[castrojenna@mckenzie.com, abigail12@cunningha...</td>\n",
       "      <td>Talk partner drop statement hand hospital board.</td>\n",
       "      <td>[]</td>\n",
       "      <td>AGE</td>\n",
       "      <td>STRATEGY_VIEW_CHAIR</td>\n",
       "      <td>0</td>\n",
       "      <td>2</td>\n",
       "      <td>10198350</td>\n",
       "      <td>201901.gz</td>\n",
       "      <td>ftuJBngF</td>\n",
       "    </tr>\n",
       "  </tbody>\n",
       "</table>\n",
       "</div>"
      ],
      "text/plain": [
       "                               guid                  datetime  \\\n",
       "0  hdQXDhBADLMIvonRVSrqklgOXyasbWQr 2019-09-29 09:07:30+00:00   \n",
       "1  rlwyjqsjwgmVogpUOsOUmBGNsvkrzIPP 2019-09-16 19:04:14+00:00   \n",
       "2  HKVEWBeUiHaDTmYGGDFofNjAauKFSzXL 2019-09-24 03:56:11+00:00   \n",
       "3  bqPLkLYSTpphQzJxWAvWAjDwLoVaqsqP 2019-09-16 01:22:04+00:00   \n",
       "4  bNWRKuBfOmVVZgIBYvhQTlXnHjBgaABG 2019-09-15 06:19:12+00:00   \n",
       "\n",
       "                       sender  \\\n",
       "0      patricia21@hotmail.com   \n",
       "1        daniel03@bennett.net   \n",
       "2  johnsonadrian@williams.com   \n",
       "3         onewman@hotmail.com   \n",
       "4        jasmine34@harvey.net   \n",
       "\n",
       "                                          recipients  \\\n",
       "0  [floresjames@gmail.com, hoffmandenise@kirk-sha...   \n",
       "1  [burnsjeffrey@alexander.com, lisajohnson@hotma...   \n",
       "2  [james60@yahoo.com, mckinneyjennifer@fischer.c...   \n",
       "3  [youngmelissa@yahoo.com, robinsoncaitlyn@gmail...   \n",
       "4  [castrojenna@mckenzie.com, abigail12@cunningha...   \n",
       "\n",
       "                                            subject  \\\n",
       "0    Operation one cup successful reality use page.   \n",
       "1   Ground price decide majority newspaper perform.   \n",
       "2                         Series way model medical.   \n",
       "3         Choose young rest bad gun manager people.   \n",
       "4  Talk partner drop statement hand hospital board.   \n",
       "\n",
       "                                         attachments     rule  \\\n",
       "0  [/rather/west/west/figure/sometimes/garden.sog...  SERIOUS   \n",
       "1  [H:/three/own/window/sport/wait/stage/goal/aga...  SERIOUS   \n",
       "2           [/or/mission/society/also/agree/and.ttf]     HUGE   \n",
       "3                    [/travel/case/put/republican.y]     HARD   \n",
       "4                                                 []      AGE   \n",
       "\n",
       "                action  attach_cnt  rcpt_cnt  email_size   log_file log_key_id  \n",
       "0          APPLY_EVENT           3        26       34282  201908.gz   DmsAmKjK  \n",
       "1  SPRING_SERIOUS_JUST           4         2    15921929  201907.gz   btmBAgTQ  \n",
       "2   BORN_ECONOMIC_MUCH           1         4    14639511  201904.gz   QbyhCVuj  \n",
       "3      CRIME_SOMETHING           1        12    25995279  201906.gz   eLOWqiyz  \n",
       "4  STRATEGY_VIEW_CHAIR           0         2    10198350  201901.gz   ftuJBngF  "
      ]
     },
     "execution_count": 36,
     "metadata": {},
     "output_type": "execute_result"
    }
   ],
   "source": [
    "df_combined.head()"
   ]
  },
  {
   "cell_type": "code",
   "execution_count": 37,
   "metadata": {},
   "outputs": [],
   "source": [
    "df_combined = df_combined.sort_values(['datetime'])"
   ]
  },
  {
   "cell_type": "code",
   "execution_count": 38,
   "metadata": {},
   "outputs": [],
   "source": [
    "# if not os.path.exists('synthetic_data'):\n",
    "#     os.mkdir(\"synthetic_data\")"
   ]
  },
  {
   "cell_type": "code",
   "execution_count": 39,
   "metadata": {},
   "outputs": [
    {
     "name": "stderr",
     "output_type": "stream",
     "text": [
      "100%|██████████| 15/15 [00:35<00:00,  2.32s/it]\n"
     ]
    }
   ],
   "source": [
    "df_tmp = None\n",
    "for date in tqdm(df_combined.datetime.dt.date.unique()):\n",
    "    df_tmp = df_combined[df_combined.datetime.dt.date == date]\n",
    "    df_tmp.to_csv(f'../airflow/data/{date}.csv', index=False)"
   ]
  }
 ],
 "metadata": {
  "kernelspec": {
   "display_name": "Python [conda env:proofpoint]",
   "language": "python",
   "name": "conda-env-proofpoint-py"
  },
  "language_info": {
   "codemirror_mode": {
    "name": "ipython",
    "version": 3
   },
   "file_extension": ".py",
   "mimetype": "text/x-python",
   "name": "python",
   "nbconvert_exporter": "python",
   "pygments_lexer": "ipython3",
   "version": "3.6.9"
  }
 },
 "nbformat": 4,
 "nbformat_minor": 4
}
