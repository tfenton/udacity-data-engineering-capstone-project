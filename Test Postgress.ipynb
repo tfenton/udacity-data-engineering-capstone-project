{
 "cells": [
  {
   "cell_type": "code",
   "execution_count": 1,
   "metadata": {},
   "outputs": [],
   "source": [
    "from pydbgen import pydbgen\n",
    "import os\n",
    "import pandas as pd\n",
    "from faker import Faker\n",
    "fake = Faker()\n",
    "import random\n",
    "import numpy as np\n",
    "import string\n",
    "import os\n",
    "from tqdm import tqdm\n",
    "import getpass"
   ]
  },
  {
   "cell_type": "code",
   "execution_count": null,
   "metadata": {},
   "outputs": [],
   "source": [
    "uname = 'postgres'\n",
    "passwd = getpass.getpass()"
   ]
  },
  {
   "cell_type": "markdown",
   "metadata": {},
   "source": [
    "# Postgres Test"
   ]
  },
  {
   "cell_type": "code",
   "execution_count": 40,
   "metadata": {},
   "outputs": [],
   "source": [
    "import psycopg2"
   ]
  },
  {
   "cell_type": "code",
   "execution_count": 41,
   "metadata": {},
   "outputs": [],
   "source": [
    "def table_exists(con, table_str):\n",
    "\n",
    "    exists = False\n",
    "    try:\n",
    "        cur = con.cursor()\n",
    "        cur.execute(\"select exists(select relname from pg_class where relname='\" + table_str + \"')\")\n",
    "        exists = cur.fetchone()[0]\n",
    "        print (exists)\n",
    "        cur.close()\n",
    "    except psycopg2.Error as e:\n",
    "        print (e)\n",
    "    return exists\n",
    "\n",
    "def get_table_col_names(con, table_str):\n",
    "\n",
    "    col_names = []\n",
    "    try:\n",
    "        cur = con.cursor()\n",
    "        cur.execute(\"select * from \" + table_str + \" LIMIT 0\")\n",
    "        for desc in cur.description:\n",
    "            col_names.append(desc[0])        \n",
    "        cur.close()\n",
    "    except psycopg2.Error as e:\n",
    "        print (e)\n",
    "\n",
    "    return col_names"
   ]
  },
  {
   "cell_type": "code",
   "execution_count": 42,
   "metadata": {},
   "outputs": [],
   "source": [
    "conn = psycopg2.connect(f\"host='127.0.0.1' dbname='synthetic_email' user='{uname}' password='{passwd}'\")"
   ]
  },
  {
   "cell_type": "code",
   "execution_count": 43,
   "metadata": {},
   "outputs": [],
   "source": [
    "cur = conn.cursor()"
   ]
  },
  {
   "cell_type": "code",
   "execution_count": 44,
   "metadata": {},
   "outputs": [],
   "source": [
    "cur.execute('SELECT count(*) FROM employees')"
   ]
  },
  {
   "cell_type": "code",
   "execution_count": 45,
   "metadata": {},
   "outputs": [],
   "source": [
    "size = cur.fetchone()"
   ]
  },
  {
   "cell_type": "code",
   "execution_count": 191,
   "metadata": {},
   "outputs": [
    {
     "data": {
      "text/plain": [
       "48801"
      ]
     },
     "execution_count": 191,
     "metadata": {},
     "output_type": "execute_result"
    }
   ],
   "source": [
    "size[0]"
   ]
  },
  {
   "cell_type": "code",
   "execution_count": null,
   "metadata": {},
   "outputs": [],
   "source": [
    "!head /encrypted_vol/jupyter_data/airflow/data/employees.csv"
   ]
  },
  {
   "cell_type": "code",
   "execution_count": 192,
   "metadata": {},
   "outputs": [],
   "source": [
    "cur.execute('DROP TABLE IF EXISTS employees')"
   ]
  },
  {
   "cell_type": "code",
   "execution_count": 74,
   "metadata": {},
   "outputs": [],
   "source": [
    "#if size[0] < 48000: # only execute if we are missing data\n",
    "cur.execute('DROP TABLE IF EXISTS employees')\n",
    "cur.execute('''CREATE TABLE employees (\n",
    "            name varchar,\n",
    "            email varchar, \n",
    "            phone_number varchar,\n",
    "            address varchar,\n",
    "            PRIMARY KEY (name, email));''')\n",
    "\n",
    "\n",
    "\n",
    "cur.execute(\"\"\"COPY employees(name,email,phone_number,address) \n",
    "                FROM '/encrypted_vol/jupyter_data/airflow/data/employees.csv'\n",
    "                DELIMITER ',' CSV HEADER;\"\"\")"
   ]
  },
  {
   "cell_type": "code",
   "execution_count": 75,
   "metadata": {},
   "outputs": [],
   "source": [
    "cur.execute('SELECT * FROM employees')"
   ]
  },
  {
   "cell_type": "code",
   "execution_count": 76,
   "metadata": {},
   "outputs": [
    {
     "data": {
      "text/plain": [
       "('Chad Spears',\n",
       " 'zacharyerickson@yahoo.com',\n",
       " '557-303-4631',\n",
       " '742 Jessica Cliffs, Port Stephenstad, TN 06314')"
      ]
     },
     "execution_count": 76,
     "metadata": {},
     "output_type": "execute_result"
    }
   ],
   "source": [
    "cur.fetchone()"
   ]
  },
  {
   "cell_type": "markdown",
   "metadata": {},
   "source": [
    "### Insert into email log table"
   ]
  },
  {
   "cell_type": "code",
   "execution_count": 117,
   "metadata": {},
   "outputs": [
    {
     "name": "stdout",
     "output_type": "stream",
     "text": [
      "guid,datetime,sender,recipients,subject,attachments,rule,action,attach_cnt,rcpt_cnt,email_size,log_file,log_key_id\r\n",
      "aRFWSXGwyJiTxPGMwzZSJcdRjWtpjCqB,2019-08-23 00:00:01+00:00,nsanchez@gilbert-wade.com,\"['rodriguezsabrina@yahoo.com', 'ymcbride@hotmail.com', 'gberry@hotmail.com', 'karen09@hotmail.com']\",Position or expect someone radio have.,['H:/him/technology/memory/many/sport/claim.inf'],AND,WHOLE_MAINTAIN_STOP,1,4,26100063,201901.gz,\r\n"
     ]
    }
   ],
   "source": [
    "!head -n 2 /encrypted_vol/jupyter_data/airflow/data/2019-08-23.csv"
   ]
  },
  {
   "cell_type": "code",
   "execution_count": 46,
   "metadata": {},
   "outputs": [],
   "source": [
    "cur.execute('DROP TABLE IF EXISTS email_logs')"
   ]
  },
  {
   "cell_type": "code",
   "execution_count": 47,
   "metadata": {},
   "outputs": [],
   "source": [
    "cur.execute('''CREATE TABLE IF NOT EXISTS email_logs \n",
    "            (guid varchar, \n",
    "            \"datetime\" TIMESTAMP, \n",
    "            sender varchar, \n",
    "            recipients varchar, \n",
    "            subject varchar, \n",
    "            attachments varchar, \n",
    "            rule varchar, \n",
    "            action varchar, \n",
    "            attach_cnt int, \n",
    "            rcpt_cnt int, \n",
    "            email_size int, \n",
    "            log_file varchar, \n",
    "            log_key_id varchar,\n",
    "            PRIMARY KEY (guid, sender));''')"
   ]
  },
  {
   "cell_type": "code",
   "execution_count": 94,
   "metadata": {},
   "outputs": [],
   "source": [
    "cur.execute('''COPY email_logs(guid,datetime,sender,recipients,subject,attachments,rule,action,attach_cnt,rcpt_cnt,email_size,log_file,log_key_id)\n",
    "                FROM '/encrypted_vol/jupyter_data/airflow/data/2019-08-22.csv'\n",
    "                DELIMITER ',' CSV HEADER;''')\n"
   ]
  },
  {
   "cell_type": "code",
   "execution_count": 51,
   "metadata": {},
   "outputs": [],
   "source": [
    "cur.execute('SELECT * FROM email_logs LIMIT 2')"
   ]
  },
  {
   "cell_type": "code",
   "execution_count": 52,
   "metadata": {},
   "outputs": [
    {
     "data": {
      "text/plain": [
       "[('aRFWSXGwyJiTxPGMwzZSJcdRjWtpjCqB',\n",
       "  datetime.datetime(2019, 8, 23, 0, 0, 1),\n",
       "  'nsanchez@gilbert-wade.com',\n",
       "  \"['rodriguezsabrina@yahoo.com', 'ymcbride@hotmail.com', 'gberry@hotmail.com', 'karen09@hotmail.com']\",\n",
       "  'Position or expect someone radio have.',\n",
       "  \"['H:/him/technology/memory/many/sport/claim.inf']\",\n",
       "  'AND',\n",
       "  'WHOLE_MAINTAIN_STOP',\n",
       "  1,\n",
       "  4,\n",
       "  26100063,\n",
       "  '201901.gz',\n",
       "  None),\n",
       " ('RdvnVgbwKGlywgFHTQdomRmFHVXPkRwt',\n",
       "  datetime.datetime(2019, 8, 23, 0, 0, 4),\n",
       "  'phillipsstacey@gmail.com',\n",
       "  \"['cjenkins@hoffman.org', 'allen94@gmail.com', 'qunderwood@gmail.com', 'randy33@rodriguez-bennett.com', 'lindsaymendoza@rodriguez.com', 'rebeccaflowers@gmail.com', 'hicksjesus@cooper-jenkins.com', 'donna11@barron-pace.biz', 'nancyzuniga@hotmail.com', 'edwin93@doyle.com', 'kathy98@flores.com', 'dunnhunter@gmail.com', 'gkelly@gmail.com', 'vflores@mendez.net', 'xhanson@greer.com']\",\n",
       "  'Subject few wide performance size.',\n",
       "  \"['Z:/thought/while/management/few.jar']\",\n",
       "  'HEAR',\n",
       "  'TAKE_DECADE_STOP',\n",
       "  1,\n",
       "  15,\n",
       "  4908149,\n",
       "  '201905.gz',\n",
       "  None)]"
      ]
     },
     "execution_count": 52,
     "metadata": {},
     "output_type": "execute_result"
    }
   ],
   "source": [
    "cur.fetchall()"
   ]
  },
  {
   "cell_type": "code",
   "execution_count": null,
   "metadata": {},
   "outputs": [],
   "source": [
    "get_table_col_names(conn, 'employees')"
   ]
  },
  {
   "cell_type": "markdown",
   "metadata": {},
   "source": [
    "### Insert into blended table"
   ]
  },
  {
   "cell_type": "code",
   "execution_count": 59,
   "metadata": {},
   "outputs": [],
   "source": [
    "cur.execute('rollback')"
   ]
  },
  {
   "cell_type": "code",
   "execution_count": 48,
   "metadata": {},
   "outputs": [],
   "source": [
    "cur.execute('DROP TABLE IF EXISTS blended_email_logs')"
   ]
  },
  {
   "cell_type": "code",
   "execution_count": 49,
   "metadata": {},
   "outputs": [],
   "source": [
    "cur.execute('''CREATE TABLE IF NOT EXISTS blended_email_logs (\n",
    "                guid varchar, \n",
    "                \"datetime\" TIMESTAMP, \n",
    "                sender varchar, \n",
    "                recipients varchar, \n",
    "                subject varchar, \n",
    "                attachments varchar, \n",
    "                rule varchar, \n",
    "                action varchar, \n",
    "                attach_cnt int, \n",
    "                rcpt_cnt int, \n",
    "                email_size int, \n",
    "                log_file varchar, \n",
    "                log_key_id varchar, \n",
    "                name varchar,\n",
    "                phone_number varchar,\n",
    "                address varchar,\n",
    "                PRIMARY KEY(guid, sender));''')"
   ]
  },
  {
   "cell_type": "code",
   "execution_count": 104,
   "metadata": {},
   "outputs": [],
   "source": [
    "cur.execute('''insert into blended_email_logs(\n",
    "                        guid,\n",
    "                        datetime,\n",
    "                        sender,\n",
    "                        recipients,\n",
    "                        subject,\n",
    "                        attachments,\n",
    "                        rule,\n",
    "                        action,\n",
    "                        attach_cnt,\n",
    "                        rcpt_cnt,\n",
    "                        email_size,\n",
    "                        log_file,\n",
    "                        log_key_id,\n",
    "                        name,\n",
    "                        phone_number,\n",
    "                        address\n",
    ")\n",
    "SELECT \n",
    "  el.guid,el.datetime,el.sender,el.recipients,el.subject,el.attachments,el.rule,el.action,el.attach_cnt,el.rcpt_cnt,el.email_size,el.log_file,el.log_key_id,\n",
    "  e.name,e.phone_number,e.address\n",
    "FROM email_logs el\n",
    "LEFT JOIN employees e ON el.sender = e.email''')\n"
   ]
  },
  {
   "cell_type": "code",
   "execution_count": 109,
   "metadata": {},
   "outputs": [],
   "source": [
    "cur.execute('''SELECT count(*) FROM blended_email_logs WHERE datetime::date = date '2019-08-21' ''')"
   ]
  },
  {
   "cell_type": "code",
   "execution_count": 110,
   "metadata": {},
   "outputs": [
    {
     "data": {
      "text/plain": [
       "(7411,)"
      ]
     },
     "execution_count": 110,
     "metadata": {},
     "output_type": "execute_result"
    }
   ],
   "source": [
    "cur.fetchone()"
   ]
  },
  {
   "cell_type": "code",
   "execution_count": 111,
   "metadata": {},
   "outputs": [],
   "source": [
    "cur.execute('''SELECT count(*) FROM blended_email_logs''')"
   ]
  },
  {
   "cell_type": "code",
   "execution_count": 112,
   "metadata": {},
   "outputs": [
    {
     "data": {
      "text/plain": [
       "(22260,)"
      ]
     },
     "execution_count": 112,
     "metadata": {},
     "output_type": "execute_result"
    }
   ],
   "source": [
    "cur.fetchone()"
   ]
  },
  {
   "cell_type": "code",
   "execution_count": 193,
   "metadata": {},
   "outputs": [],
   "source": [
    "conn.close()"
   ]
  },
  {
   "cell_type": "code",
   "execution_count": null,
   "metadata": {},
   "outputs": [],
   "source": []
  }
 ],
 "metadata": {
  "kernelspec": {
   "display_name": "Python [conda env:proofpoint]",
   "language": "python",
   "name": "conda-env-proofpoint-py"
  },
  "language_info": {
   "codemirror_mode": {
    "name": "ipython",
    "version": 3
   },
   "file_extension": ".py",
   "mimetype": "text/x-python",
   "name": "python",
   "nbconvert_exporter": "python",
   "pygments_lexer": "ipython3",
   "version": "3.6.9"
  }
 },
 "nbformat": 4,
 "nbformat_minor": 4
}
